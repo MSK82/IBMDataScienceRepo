{
 "cells": [
  {
   "cell_type": "markdown",
   "id": "c7de2512-1f52-4cc3-86de-0e7a098f9fd2",
   "metadata": {},
   "source": [
    "# Data Science Tools and Ecosystem"
   ]
  },
  {
   "cell_type": "markdown",
   "id": "8992ab78-aab3-4353-b23c-939952229747",
   "metadata": {},
   "source": [
    "In this notebook, Data Science Tools and Ecosystem are summarized."
   ]
  },
  {
   "cell_type": "markdown",
   "id": "6dbdc3fa-416f-403c-bdc1-f8107b35bb1a",
   "metadata": {},
   "source": [
    "Some of the popular languages that Data Scientists use are:\n",
    "1. Python\n",
    "2. R\n",
    "3. Julia"
   ]
  },
  {
   "cell_type": "markdown",
   "id": "d81b0e53-4eca-4a42-94ce-363e66aef116",
   "metadata": {},
   "source": [
    "**Objectives:**\n",
    "* List popular languages for data science.\n",
    "* List common Ecosystems & tools for data science.\n",
    "* List popular libraries used by data scientists.\n",
    "## Author\n",
    "  Sohail Khan"
   ]
  },
  {
   "cell_type": "markdown",
   "id": "3df2d7ca-997f-4186-92b1-acb8e8c6f598",
   "metadata": {},
   "source": [
    "Some of the commonly used libraries used by Data Scientists include:\n",
    "1. NumPy\n",
    "2. Pandas\n",
    "3. Keras"
   ]
  },
  {
   "cell_type": "markdown",
   "id": "92c11164-7354-4071-b08d-26dbe1b16a56",
   "metadata": {},
   "source": [
    "| Data Science Tools |\n",
    "| -------------------|\n",
    "| Jupyter Notebook |\n",
    "| R Studio |\n",
    "| VS Code |"
   ]
  },
  {
   "cell_type": "markdown",
   "id": "ff83dfaf-0317-4d9a-a491-401af6f8fc5b",
   "metadata": {},
   "source": [
    "### Below are a few examples of evaluating arithmetic expressions in Python"
   ]
  },
  {
   "cell_type": "code",
   "execution_count": 1,
   "id": "813ec27d-9760-430f-86d1-ee912bd4898c",
   "metadata": {
    "tags": []
   },
   "outputs": [
    {
     "data": {
      "text/plain": [
       "17"
      ]
     },
     "execution_count": 1,
     "metadata": {},
     "output_type": "execute_result"
    }
   ],
   "source": [
    "# This a simple arithmetic expression to mutiply then add integers\n",
    "(3*4)+5"
   ]
  },
  {
   "cell_type": "code",
   "execution_count": 2,
   "id": "51059b07-cb49-423c-8a97-f97a21e6d2bf",
   "metadata": {
    "tags": []
   },
   "outputs": [
    {
     "data": {
      "text/plain": [
       "3.3333333333333335"
      ]
     },
     "execution_count": 2,
     "metadata": {},
     "output_type": "execute_result"
    }
   ],
   "source": [
    "# This will convert 200 minutes to hours by diving by 60\n",
    "200/60"
   ]
  },
  {
   "cell_type": "code",
   "execution_count": null,
   "id": "9a1f1893-3ece-44af-b55e-5e3760dd0083",
   "metadata": {},
   "outputs": [],
   "source": []
  }
 ],
 "metadata": {
  "kernelspec": {
   "display_name": "Python",
   "language": "python",
   "name": "conda-env-python-py"
  },
  "language_info": {
   "codemirror_mode": {
    "name": "ipython",
    "version": 3
   },
   "file_extension": ".py",
   "mimetype": "text/x-python",
   "name": "python",
   "nbconvert_exporter": "python",
   "pygments_lexer": "ipython3",
   "version": "3.7.12"
  }
 },
 "nbformat": 4,
 "nbformat_minor": 5
}
